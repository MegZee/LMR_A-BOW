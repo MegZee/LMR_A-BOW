{
  "nbformat": 4,
  "nbformat_minor": 0,
  "metadata": {
    "accelerator": "GPU",
    "colab": {
      "name": "Immediate.ipynb",
      "provenance": [],
      "collapsed_sections": [],
      "mount_file_id": "1_pEoYx9q0duKNXsBISehK3MDoOg4fACA",
      "authorship_tag": "ABX9TyMuVgBUFz0YLIU04HB28dnO"
    },
    "kernelspec": {
      "display_name": "Python 3",
      "name": "python3"
    }
  },
  "cells": [
    {
      "cell_type": "code",
      "metadata": {
        "colab": {
          "base_uri": "https://localhost:8080/"
        },
        "id": "KPCWlwu_EB6n",
        "outputId": "f9223a9d-07b0-4330-b297-8923d664a0ce"
      },
      "source": [
        "import tensorflow as tf\n",
        "\n",
        "# Get the GPU device name.\n",
        "device_name = tf.test.gpu_device_name()\n",
        "\n",
        "# The device name should look like the following:\n",
        "if device_name == '/device:GPU:0':\n",
        "    print('Found GPU at: {}'.format(device_name))\n",
        "else:\n",
        "    raise SystemError('GPU device not found')"
      ],
      "execution_count": null,
      "outputs": [
        {
          "output_type": "stream",
          "text": [
            "Found GPU at: /device:GPU:0\n"
          ],
          "name": "stdout"
        }
      ]
    },
    {
      "cell_type": "code",
      "metadata": {
        "colab": {
          "base_uri": "https://localhost:8080/"
        },
        "id": "uJC5FNoLEZhU",
        "outputId": "61150609-0fbc-4399-fced-a17e9d0e7f76"
      },
      "source": [
        "import torch\n",
        "\n",
        "# If there's a GPU available...\n",
        "if torch.cuda.is_available():    \n",
        "\n",
        "    # Tell PyTorch to use the GPU.    \n",
        "    device = torch.device(\"cuda\")\n",
        "\n",
        "    print('There are %d GPU(s) available.' % torch.cuda.device_count())\n",
        "\n",
        "    print('We will use the GPU:', torch.cuda.get_device_name(0))\n",
        "\n",
        "# If not...\n",
        "else:\n",
        "    print('No GPU available, using the CPU instead.')\n",
        "    device = torch.device(\"cpu\")"
      ],
      "execution_count": null,
      "outputs": [
        {
          "output_type": "stream",
          "text": [
            "There are 1 GPU(s) available.\n",
            "We will use the GPU: Tesla T4\n"
          ],
          "name": "stdout"
        }
      ]
    },
    {
      "cell_type": "code",
      "metadata": {
        "id": "zHicHSFfEdEe"
      },
      "source": [
        "# #for SEMEVAL ---------------\n",
        "\n",
        "# import pickle\n",
        "# import numpy as np\n",
        "# import pandas as pd\n",
        "# import csv\n",
        "\n",
        "# with open('/content/drive/MyDrive/Colab Notebooks/Semeval/baselines/semeval_literal_test_base5.pkl', mode='rb') as f:\n",
        "#   litBase_test = pickle.load(f)\n",
        "#   f.close()\n",
        "\n",
        "# with open('/content/drive/MyDrive/Colab Notebooks/Semeval/baselines/semeval_literal_train_base5.pkl', mode='rb') as f:\n",
        "#   litBase_train = pickle.load(f)\n",
        "#   f.close()\n",
        "\n",
        "# with open('/content/drive/MyDrive/Colab Notebooks/Semeval/baselines/semeval_metonymic_test_base5.pkl', mode='rb') as f:\n",
        "#   metBase_test = pickle.load(f)\n",
        "#   f.close()\n",
        "\n",
        "# with open('/content/drive/MyDrive/Colab Notebooks/Semeval/baselines/semeval_metonymic_train_base5.pkl', mode='rb') as f:\n",
        "#   metBase_train = pickle.load(f)\n",
        "#   f.close()\n"
      ],
      "execution_count": null,
      "outputs": []
    },
    {
      "cell_type": "code",
      "metadata": {
        "id": "YRtYy5mu69fr"
      },
      "source": [
        "# #for CONLL ---------------\n",
        "\n",
        "# import pickle\n",
        "# import numpy as np\n",
        "# import pandas as pd\n",
        "# import csv\n",
        "\n",
        "# with open('/content/drive/MyDrive/Colab Notebooks/Conll/baselines/conll_literal_test_base10.pkl', mode='rb') as f:\n",
        "#   litBase_test = pickle.load(f)\n",
        "#   f.close()\n",
        "\n",
        "# with open('/content/drive/MyDrive/Colab Notebooks/Conll/baselines/conll_literal_train_base10.pkl', mode='rb') as f:\n",
        "#   litBase_train = pickle.load(f)\n",
        "#   f.close()\n",
        "\n",
        "# with open('/content/drive/MyDrive/Colab Notebooks/Conll/baselines/conll_metonymic_test_base10.pkl', mode='rb') as f:\n",
        "#   metBase_test = pickle.load(f)\n",
        "#   f.close()\n",
        "\n",
        "# with open('/content/drive/MyDrive/Colab Notebooks/Conll/baselines/conll_metonymic_train_base10.pkl', mode='rb') as f:\n",
        "#   metBase_train = pickle.load(f)\n",
        "#   f.close()"
      ],
      "execution_count": null,
      "outputs": []
    },
    {
      "cell_type": "code",
      "metadata": {
        "id": "V1SytoshFDMb"
      },
      "source": [
        "# #for RELOCAR ---------------\n",
        "\n",
        "# import pickle\n",
        "# import numpy as np\n",
        "# import pandas as pd\n",
        "# import csv\n",
        "\n",
        "# with open('/content/drive/MyDrive/Colab Notebooks/ReLocaR/baselines/relocar_literal_test_base50.pkl', mode='rb') as f:\n",
        "#   litBase_test = pickle.load(f)\n",
        "#   f.close()\n",
        "\n",
        "# with open('/content/drive/MyDrive/Colab Notebooks/ReLocaR/baselines/relocar_literal_train_base50.pkl', mode='rb') as f:\n",
        "#   litBase_train = pickle.load(f)\n",
        "#   f.close()\n",
        "\n",
        "# with open('/content/drive/MyDrive/Colab Notebooks/ReLocaR/baselines/relocar_metonymic_test_base50.pkl', mode='rb') as f:\n",
        "#   metBase_test = pickle.load(f)\n",
        "#   f.close()\n",
        "\n",
        "# with open('/content/drive/MyDrive/Colab Notebooks/ReLocaR/baselines/relocar_metonymic_train_base50.pkl', mode='rb') as f:\n",
        "#   metBase_train = pickle.load(f)\n",
        "#   f.close()\n"
      ],
      "execution_count": null,
      "outputs": []
    },
    {
      "cell_type": "code",
      "metadata": {
        "id": "73BlhCDGH1xm"
      },
      "source": [
        "#for WIMCOR ---------------\n",
        "\n",
        "import pickle\n",
        "import numpy as np\n",
        "import pandas as pd\n",
        "import csv\n",
        "\n",
        "with open('/content/drive/MyDrive/Colab Notebooks/wimcor/baseline/wimcor_test_literal_base10.pkl', mode='rb') as f:\n",
        "  litBase_test = pickle.load(f)\n",
        "  f.close()\n",
        "\n",
        "with open('/content/drive/MyDrive/Colab Notebooks/wimcor/baseline/wimcor_train_literal_base10.pkl', mode='rb') as f:\n",
        "  litBase_train = pickle.load(f)\n",
        "  f.close()\n",
        "\n",
        "with open('/content/drive/MyDrive/Colab Notebooks/wimcor/baseline/wimcor_test_metonymic_base10.pkl', mode='rb') as f:\n",
        "  metBase_test = pickle.load(f)\n",
        "  f.close()\n",
        "\n",
        "with open('/content/drive/MyDrive/Colab Notebooks/wimcor/baseline/wimcor_train_metonymic_base10.pkl', mode='rb') as f:\n",
        "  metBase_train = pickle.load(f)\n",
        "  f.close()"
      ],
      "execution_count": null,
      "outputs": []
    },
    {
      "cell_type": "code",
      "metadata": {
        "id": "eTK24W-ZFZBA"
      },
      "source": [
        "#Flatten the tuples\n",
        "\n",
        "def organizing(l):\n",
        "  flat = [i for sublist in l for item in sublist for i  in item] \n",
        "\n",
        "  baseList = []\n",
        "  for i in range(0,len(flat),10): #change i+N for baseline!\n",
        "      baseList.append([flat[i] for i in range(i,i+10)]) #change i+N for baseline!\n",
        "  l = baseList\n",
        "\n",
        "  return l\n",
        "\n",
        "metBaseList_test = organizing(metBase_test)\n",
        "metBaseList_train = organizing(metBase_train)\n",
        "litBaseList_test = organizing(litBase_test)\n",
        "litBaseList_train = organizing(litBase_train)\n"
      ],
      "execution_count": null,
      "outputs": []
    },
    {
      "cell_type": "code",
      "metadata": {
        "colab": {
          "base_uri": "https://localhost:8080/"
        },
        "id": "9iZt0Jb4FZDj",
        "outputId": "17bc4e95-6c20-41a0-caf0-e65036169050"
      },
      "source": [
        "# Labeling the dataset \n",
        "\n",
        "import pandas as pd\n",
        "\n",
        "MetTrainLabel = [1 for i in range(len(metBaseList_train))]\n",
        "MetTestLabel = [1 for i in range(len(metBaseList_test))]\n",
        "litTrainLabel = [0 for i in range(len(litBaseList_train))]\n",
        "litTestLabel = [0 for i in range(len(litBaseList_test))]\n",
        "\n",
        "dict1 = {'Sentence':metBaseList_train, 'Label':MetTrainLabel}\n",
        "dict2 = {'Sentence':litBaseList_train, 'Label':litTrainLabel}\n",
        "\n",
        "df1 = pd.DataFrame(dict1)\n",
        "df2 = pd.DataFrame(dict2)\n",
        "frame = [df1, df2]\n",
        "df_train = pd.concat(frame)\n",
        "\n",
        "dictA = {'Sentence':metBaseList_test, 'Label':MetTestLabel}\n",
        "dictB = {'Sentence':litBaseList_test, 'Label':litTestLabel}\n",
        "\n",
        "dfa = pd.DataFrame(dictA)\n",
        "dfb = pd.DataFrame(dictB)\n",
        "frame1 = [dfa, dfb]\n",
        "df_test = pd.concat(frame1)\n",
        "print(df_test)"
      ],
      "execution_count": null,
      "outputs": [
        {
          "output_type": "stream",
          "text": [
            "                                                Sentence  Label\n",
            "0      [and, Overseas, Universities, include:, Intern...      1\n",
            "1      [,, Hitotsubashi, University,, University, of,...      1\n",
            "2      [California,, Pennsylvania, now, called, Calif...      1\n",
            "3      [and, Louisville, Male, High, School, in, Loui...      1\n",
            "4      [Korean, War,, B-29, Superfortresses, flew, bo...      1\n",
            "...                                                  ...    ...\n",
            "58547  [., He, challenged, the, legality, of, Horne's...      0\n",
            "58548  [home, in, 1556., Sir, Philip, died, at, his, ...      0\n",
            "58549  [and, was, buried, in, Bisham, Church, where, ...      0\n",
            "58550  [May, 1918, and, led, the, Army, at, the, libe...      0\n",
            "58551  [in, October, 1918, and, at, the, liberation, ...      0\n",
            "\n",
            "[78320 rows x 2 columns]\n"
          ],
          "name": "stdout"
        }
      ]
    },
    {
      "cell_type": "code",
      "metadata": {
        "colab": {
          "base_uri": "https://localhost:8080/"
        },
        "id": "5aLfcPNFFZGF",
        "outputId": "f3321e41-4495-4ca7-9523-c880cd865b81"
      },
      "source": [
        "df_test = df_test.sample(frac=1).reset_index(drop=True)\n",
        "df_train = df_train.sample(frac=1).reset_index(drop=True)\n",
        "print(df_test)"
      ],
      "execution_count": null,
      "outputs": [
        {
          "output_type": "stream",
          "text": [
            "                                                Sentence  Label\n",
            "0      [to, 1875, who, played, for, Lancashire., He, ...      0\n",
            "1      [., He, started, making, soap, powder, in, the...      0\n",
            "2      [,, at, a, spot, just, east, of, Big, Elk, Creek]      0\n",
            "3      [and, Olazagutia, was, ready, by, 1862,, so, A...      0\n",
            "4      [), where, she, discovers, a, sinister, societ...      1\n",
            "...                                                  ...    ...\n",
            "78315  [of, Maeda, Toshiie.,  , Having, fought, again...      1\n",
            "78316  [The, Place, in, Duke's, Road,, Euston,, the, ...      0\n",
            "78317  [Carolina, University, of, Illinois, at, Urban...      1\n",
            "78318  [,, Lancashire,, England, by, guitarist/vocali...      0\n",
            "78319  [51°10'N)\"., The, Walde, Lighthouse, is, 6,  ,...      0\n",
            "\n",
            "[78320 rows x 2 columns]\n"
          ],
          "name": "stdout"
        }
      ]
    },
    {
      "cell_type": "code",
      "metadata": {
        "id": "uti4fjpUGhRa"
      },
      "source": [
        "from tensorflow.keras.preprocessing.text import Tokenizer\n",
        "from tensorflow.keras.preprocessing.sequence import pad_sequences\n",
        "from tensorflow.keras.models import Sequential\n",
        "from tensorflow.keras.layers import Dense,Flatten,Embedding,Activation, Dropout\n",
        "from tensorflow.keras.layers import Conv1D, MaxPooling1D, GlobalMaxPooling1D, LSTM\n",
        "from tensorflow.keras.optimizers import Adam\n",
        "from sklearn.model_selection import train_test_split\n",
        "from sklearn.datasets import make_circles\n",
        "from sklearn.metrics import accuracy_score\n",
        "from sklearn.metrics import precision_score\n",
        "from sklearn.metrics import recall_score\n",
        "from sklearn.metrics import f1_score\n",
        "from sklearn.metrics import cohen_kappa_score\n",
        "from sklearn.metrics import roc_auc_score\n",
        "from sklearn.metrics import confusion_matrix"
      ],
      "execution_count": null,
      "outputs": []
    },
    {
      "cell_type": "code",
      "metadata": {
        "colab": {
          "base_uri": "https://localhost:8080/"
        },
        "id": "ViIxizHZGhUd",
        "outputId": "12cda697-efb8-4dcf-ef40-81916284e500"
      },
      "source": [
        "frame = [df_train, df_test]\n",
        "df_corpus = pd.concat(frame)\n",
        "df_corpus\n",
        "# df_corpus = df_corpus.sample(frac=1).reset_index(drop=True)\n",
        "# df_train, df_test = train_test_split(df_corpus, test_size=0.5)\n",
        "len(df_test)"
      ],
      "execution_count": null,
      "outputs": [
        {
          "output_type": "execute_result",
          "data": {
            "text/plain": [
              "78320"
            ]
          },
          "metadata": {
            "tags": []
          },
          "execution_count": 32
        }
      ]
    },
    {
      "cell_type": "code",
      "metadata": {
        "id": "mhhYSsjBGhW8"
      },
      "source": [
        "text = df_corpus['Sentence'].tolist()\n",
        "textTrain = df_train['Sentence'].tolist()\n",
        "textTest = df_test['Sentence'].tolist()\n",
        "token = Tokenizer()\n",
        "token.fit_on_texts(text)"
      ],
      "execution_count": null,
      "outputs": []
    },
    {
      "cell_type": "code",
      "metadata": {
        "colab": {
          "base_uri": "https://localhost:8080/"
        },
        "id": "R7HKZ6iIGwE8",
        "outputId": "c0e914fb-7653-405c-f6ae-a95632bc282f"
      },
      "source": [
        "vocab_size  = len(token.word_index) + 1\n",
        "vocab_size"
      ],
      "execution_count": null,
      "outputs": [
        {
          "output_type": "execute_result",
          "data": {
            "text/plain": [
              "119594"
            ]
          },
          "metadata": {
            "tags": []
          },
          "execution_count": 34
        }
      ]
    },
    {
      "cell_type": "code",
      "metadata": {
        "id": "SYCeYtnbGwHe"
      },
      "source": [
        "encoded_train = token.texts_to_sequences(textTrain)\n",
        "encoded_test = token.texts_to_sequences(textTest)"
      ],
      "execution_count": null,
      "outputs": []
    },
    {
      "cell_type": "code",
      "metadata": {
        "colab": {
          "base_uri": "https://localhost:8080/"
        },
        "id": "moV97rR0GwJj",
        "outputId": "30779cf0-997b-4b05-d438-b4ec7b2c5928"
      },
      "source": [
        "max_length = 24\n",
        "X = pad_sequences(encoded_train, maxlen=max_length, padding='post')\n",
        "y = pad_sequences(encoded_test, maxlen=max_length, padding='post')\n",
        "# X = pad_sequences(encoded_train, maxlen=max_length+2, padding='pre')\n",
        "# y = pad_sequences(encoded_test, maxlen=max_length+2, padding='pre')\n",
        "len(X[0])"
      ],
      "execution_count": null,
      "outputs": [
        {
          "output_type": "execute_result",
          "data": {
            "text/plain": [
              "24"
            ]
          },
          "metadata": {
            "tags": []
          },
          "execution_count": 36
        }
      ]
    },
    {
      "cell_type": "code",
      "metadata": {
        "colab": {
          "base_uri": "https://localhost:8080/"
        },
        "id": "UW-RkrVVG1eP",
        "outputId": "dbab4541-21ec-404a-83d0-91e6feeafe04"
      },
      "source": [
        "%%time\n",
        "import numpy as np\n",
        "\n",
        "glove_vectors = dict()\n",
        "\n",
        "\n",
        "# file = open('glove.twitter.27B.200d.txt', encoding='utf-8')\n",
        "file = open('/content/drive/MyDrive/Colab Notebooks/GloVe 50D/glove.6B.50d.txt', encoding='utf-8')\n",
        "\n",
        "for line in file:\n",
        "    values = line.split()\n",
        "    word = values[0]\n",
        "    #storing the word in the variable\n",
        "    vectors = np.asarray(values[1: ])\n",
        "    #storing the vector representation of the respective word in the dictionary\n",
        "    glove_vectors[word] = vectors\n",
        "file.close()\n",
        "\n",
        "word_vector_matrix = np.zeros((vocab_size, 50))\n",
        "\n",
        "for word, index in token.word_index.items():\n",
        "    vector = glove_vectors.get(word)\n",
        "    if vector is not None:\n",
        "        word_vector_matrix[index] = vector\n",
        "print(word_vector_matrix.shape)  "
      ],
      "execution_count": null,
      "outputs": [
        {
          "output_type": "stream",
          "text": [
            "(119594, 50)\n",
            "CPU times: user 5.48 s, sys: 470 ms, total: 5.95 s\n",
            "Wall time: 6.02 s\n"
          ],
          "name": "stdout"
        }
      ]
    },
    {
      "cell_type": "code",
      "metadata": {
        "colab": {
          "base_uri": "https://localhost:8080/"
        },
        "id": "6TeoK77yG1hJ",
        "outputId": "de304868-b00f-42ed-d1b8-91907a279f4c"
      },
      "source": [
        "X_train = X\n",
        "X_test = y\n",
        "\n",
        "y_train = df_train['Label']\n",
        "y_test = df_test['Label']\n",
        "y_train = y_train.values.reshape(-1,1)\n",
        "y_test = y_test.values.reshape(-1,1)\n",
        "print(X_train.shape, '\\n',\n",
        "X_test.shape)"
      ],
      "execution_count": null,
      "outputs": [
        {
          "output_type": "stream",
          "text": [
            "(129038, 24) \n",
            " (78320, 24)\n"
          ],
          "name": "stdout"
        }
      ]
    },
    {
      "cell_type": "code",
      "metadata": {
        "colab": {
          "base_uri": "https://localhost:8080/"
        },
        "id": "dV1zo3YFG1le",
        "outputId": "e0a4e1b3-0178-438f-bbb3-6b3ff8677c8e"
      },
      "source": [
        "vec_size = 50\n",
        "\n",
        "accuracies = []\n",
        "precisions = []\n",
        "recalls = []\n",
        "f1s = []\n",
        "\n",
        "for i in range(1): \n",
        "\n",
        "  model = Sequential()\n",
        "  model.add(Embedding(vocab_size, vec_size, input_length=max_length, weights = [word_vector_matrix], trainable = False))\n",
        "  model.add(Conv1D(64, 12, activation = 'relu'))\n",
        "  model.add(MaxPooling1D(2))\n",
        "  model.add(Dropout(0.5))\n",
        "  model.add(Dense(32, activation='relu'))\n",
        "  model.add(Dropout(0.5))\n",
        "  model.add(Dense(16, activation='relu'))\n",
        "  model.add(GlobalMaxPooling1D())\n",
        "  model.add(Dense(1, activation='sigmoid'))\n",
        "  model.compile(optimizer=Adam(learning_rate = 0.0001), loss = 'binary_crossentropy', metrics = ['accuracy'])\n",
        "  classifier = model.fit(X_train, y_train, epochs =30, validation_data = (X_test, y_test))\n",
        "\n",
        "  yhat_probs = model.predict(X_test, verbose=0)\n",
        "  yhat_classes = model.predict_classes(X_test, verbose=0)\n",
        "  yhat_probs = yhat_probs[:, 0]\n",
        "  yhat_classes = yhat_classes[:, 0]\n",
        "  \n",
        "  accuracy = accuracy_score(y_test, yhat_classes)\n",
        "  precision = precision_score(y_test, yhat_classes)\n",
        "  recall = recall_score(y_test, yhat_classes)\n",
        "  f1 = f1_score(y_test, yhat_classes)\n",
        "\n",
        "  accuracies.append(accuracy)\n",
        "  precisions.append(precision)\n",
        "  recalls.append(recall)\n",
        "  f1s.append(f1)\n",
        "\n",
        "print('Training is DONE...')"
      ],
      "execution_count": null,
      "outputs": [
        {
          "output_type": "stream",
          "text": [
            "Epoch 1/30\n",
            "4033/4033 [==============================] - 24s 6ms/step - loss: 0.5014 - accuracy: 0.7751 - val_loss: 0.4335 - val_accuracy: 0.8165\n",
            "Epoch 2/30\n",
            "4033/4033 [==============================] - 23s 6ms/step - loss: 0.4171 - accuracy: 0.8241 - val_loss: 0.4159 - val_accuracy: 0.8275\n",
            "Epoch 3/30\n",
            "4033/4033 [==============================] - 22s 5ms/step - loss: 0.3938 - accuracy: 0.8345 - val_loss: 0.4051 - val_accuracy: 0.8335\n",
            "Epoch 4/30\n",
            "4033/4033 [==============================] - 23s 6ms/step - loss: 0.3843 - accuracy: 0.8394 - val_loss: 0.3993 - val_accuracy: 0.8363\n",
            "Epoch 5/30\n",
            "4033/4033 [==============================] - 24s 6ms/step - loss: 0.3773 - accuracy: 0.8435 - val_loss: 0.3922 - val_accuracy: 0.8390\n",
            "Epoch 6/30\n",
            "4033/4033 [==============================] - 22s 5ms/step - loss: 0.3635 - accuracy: 0.8503 - val_loss: 0.3912 - val_accuracy: 0.8391\n",
            "Epoch 7/30\n",
            "4033/4033 [==============================] - 22s 6ms/step - loss: 0.3620 - accuracy: 0.8482 - val_loss: 0.3866 - val_accuracy: 0.8400\n",
            "Epoch 8/30\n",
            "4033/4033 [==============================] - 22s 6ms/step - loss: 0.3525 - accuracy: 0.8551 - val_loss: 0.3873 - val_accuracy: 0.8423\n",
            "Epoch 9/30\n",
            "4033/4033 [==============================] - 23s 6ms/step - loss: 0.3491 - accuracy: 0.8550 - val_loss: 0.3826 - val_accuracy: 0.8419\n",
            "Epoch 10/30\n",
            "4033/4033 [==============================] - 22s 6ms/step - loss: 0.3456 - accuracy: 0.8568 - val_loss: 0.3810 - val_accuracy: 0.8462\n",
            "Epoch 11/30\n",
            "4033/4033 [==============================] - 22s 5ms/step - loss: 0.3410 - accuracy: 0.8574 - val_loss: 0.3801 - val_accuracy: 0.8460\n",
            "Epoch 12/30\n",
            "4033/4033 [==============================] - 22s 5ms/step - loss: 0.3386 - accuracy: 0.8594 - val_loss: 0.3781 - val_accuracy: 0.8447\n",
            "Epoch 13/30\n",
            "4033/4033 [==============================] - 22s 6ms/step - loss: 0.3358 - accuracy: 0.8605 - val_loss: 0.3772 - val_accuracy: 0.8477\n",
            "Epoch 14/30\n",
            "4033/4033 [==============================] - 23s 6ms/step - loss: 0.3343 - accuracy: 0.8611 - val_loss: 0.3825 - val_accuracy: 0.8421\n",
            "Epoch 15/30\n",
            "4033/4033 [==============================] - 22s 6ms/step - loss: 0.3290 - accuracy: 0.8647 - val_loss: 0.3780 - val_accuracy: 0.8468\n",
            "Epoch 16/30\n",
            "4033/4033 [==============================] - 22s 6ms/step - loss: 0.3262 - accuracy: 0.8646 - val_loss: 0.3777 - val_accuracy: 0.8442\n",
            "Epoch 17/30\n",
            "4033/4033 [==============================] - 23s 6ms/step - loss: 0.3257 - accuracy: 0.8651 - val_loss: 0.3761 - val_accuracy: 0.8455\n",
            "Epoch 18/30\n",
            "4033/4033 [==============================] - 22s 5ms/step - loss: 0.3209 - accuracy: 0.8662 - val_loss: 0.3772 - val_accuracy: 0.8468\n",
            "Epoch 19/30\n",
            "4033/4033 [==============================] - 23s 6ms/step - loss: 0.3227 - accuracy: 0.8653 - val_loss: 0.3762 - val_accuracy: 0.8456\n",
            "Epoch 20/30\n",
            "4033/4033 [==============================] - 22s 5ms/step - loss: 0.3169 - accuracy: 0.8707 - val_loss: 0.3722 - val_accuracy: 0.8487\n",
            "Epoch 21/30\n",
            "4033/4033 [==============================] - 22s 6ms/step - loss: 0.3178 - accuracy: 0.8680 - val_loss: 0.3739 - val_accuracy: 0.8478\n",
            "Epoch 22/30\n",
            "4033/4033 [==============================] - 24s 6ms/step - loss: 0.3141 - accuracy: 0.8696 - val_loss: 0.3763 - val_accuracy: 0.8477\n",
            "Epoch 23/30\n",
            "4033/4033 [==============================] - 24s 6ms/step - loss: 0.3116 - accuracy: 0.8712 - val_loss: 0.3726 - val_accuracy: 0.8471\n",
            "Epoch 24/30\n",
            "4033/4033 [==============================] - 23s 6ms/step - loss: 0.3129 - accuracy: 0.8691 - val_loss: 0.3707 - val_accuracy: 0.8465\n",
            "Epoch 25/30\n",
            "4033/4033 [==============================] - 23s 6ms/step - loss: 0.3111 - accuracy: 0.8704 - val_loss: 0.3736 - val_accuracy: 0.8473\n",
            "Epoch 26/30\n",
            "4033/4033 [==============================] - 23s 6ms/step - loss: 0.3077 - accuracy: 0.8733 - val_loss: 0.3751 - val_accuracy: 0.8443\n",
            "Epoch 27/30\n",
            "4033/4033 [==============================] - 24s 6ms/step - loss: 0.3067 - accuracy: 0.8719 - val_loss: 0.3735 - val_accuracy: 0.8463\n",
            "Epoch 28/30\n",
            "4033/4033 [==============================] - 23s 6ms/step - loss: 0.3072 - accuracy: 0.8712 - val_loss: 0.3728 - val_accuracy: 0.8471\n",
            "Epoch 29/30\n",
            "4033/4033 [==============================] - 23s 6ms/step - loss: 0.3036 - accuracy: 0.8734 - val_loss: 0.3737 - val_accuracy: 0.8444\n",
            "Epoch 30/30\n",
            "4033/4033 [==============================] - 21s 5ms/step - loss: 0.3041 - accuracy: 0.8739 - val_loss: 0.3719 - val_accuracy: 0.8462\n"
          ],
          "name": "stdout"
        },
        {
          "output_type": "stream",
          "text": [
            "/usr/local/lib/python3.6/dist-packages/tensorflow/python/keras/engine/sequential.py:450: UserWarning: `model.predict_classes()` is deprecated and will be removed after 2021-01-01. Please use instead:* `np.argmax(model.predict(x), axis=-1)`,   if your model does multi-class classification   (e.g. if it uses a `softmax` last-layer activation).* `(model.predict(x) > 0.5).astype(\"int32\")`,   if your model does binary classification   (e.g. if it uses a `sigmoid` last-layer activation).\n",
            "  warnings.warn('`model.predict_classes()` is deprecated and '\n"
          ],
          "name": "stderr"
        },
        {
          "output_type": "stream",
          "text": [
            "Training is DONE...\n"
          ],
          "name": "stdout"
        }
      ]
    },
    {
      "cell_type": "code",
      "metadata": {
        "colab": {
          "base_uri": "https://localhost:8080/"
        },
        "id": "geB1ufD3G1os",
        "outputId": "dbc297b7-924d-4026-c872-9618d812ca6c"
      },
      "source": [
        "from statistics import *\n",
        "# std_acc = []\n",
        "# for i in range(len(accuracies)):\n",
        "#   std_acc.append(i)\n",
        "avgAcc = mean(accuracies)\n",
        "print(\"The average is \", round(avgAcc,4))\n",
        "arr = np.array(accuracies)\n",
        "print('\\nstd is: ',np.std(arr))\n",
        "\n",
        "avgP =  mean(precisions)\n",
        "print(\"\\nThe precisions average is \", round(avgP,4))\n",
        "avgR = mean(recalls)\n",
        "print(\"\\nThe recalls average is \", round(avgR,4))\n",
        "avgF1 = mean(f1s)\n",
        "print(\"\\nThe f1s average is \", round(avgF1,4))\n",
        "\n",
        "matrix = confusion_matrix(y_test, yhat_classes)\n",
        "print('the matrix:\\n',matrix)"
      ],
      "execution_count": null,
      "outputs": [
        {
          "output_type": "stream",
          "text": [
            "The average is  0.8462\n",
            "\n",
            "std is:  0.0\n",
            "\n",
            "The precisions average is  0.8272\n",
            "\n",
            "The recalls average is  0.4936\n",
            "\n",
            "The f1s average is  0.6183\n",
            "the matrix:\n",
            " [[56514  2038]\n",
            " [10010  9758]]\n"
          ],
          "name": "stdout"
        }
      ]
    },
    {
      "cell_type": "code",
      "metadata": {
        "colab": {
          "base_uri": "https://localhost:8080/"
        },
        "id": "gJN9egzeHFwT",
        "outputId": "b611302f-ec50-426d-f22c-6d6dc84ff65d"
      },
      "source": [
        "import matplotlib.pyplot as plt\n",
        "\n",
        "plt.plot(classifier.history['loss'], label='train')\n",
        "plt.plot(classifier.history['val_loss'], label='test')\n",
        "plt.legend()\n",
        "plt.show()"
      ],
      "execution_count": null,
      "outputs": [
        {
          "output_type": "display_data",
          "data": {
            "image/png": "[encoded data removed]",
            "text/plain": [
              "<Figure size 432x288 with 1 Axes>"
            ]
          },
          "metadata": {
            "tags": [],
            "needs_background": "light"
          }
        }
      ]
    },
    {
      "cell_type": "code",
      "metadata": {
        "id": "B9KMI7v0A9Qr"
      },
      "source": [
        "# _, train_acc = model.evaluate(X_train, y_train, verbose=0)\n",
        "# _, test_acc = model.evaluate(X_test, y_test, verbose=0)\n",
        "# print('Train: %.3f, Test: %.3f' % (train_acc, test_acc))"
      ],
      "execution_count": null,
      "outputs": []
    }
  ]
}